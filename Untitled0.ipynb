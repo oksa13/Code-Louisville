{
  "nbformat": 4,
  "nbformat_minor": 0,
  "metadata": {
    "colab": {
      "name": "Untitled0.ipynb",
      "provenance": [],
      "collapsed_sections": [],
      "authorship_tag": "ABX9TyOtwkUXuPPzaRzYEFcBX2SY"
    },
    "kernelspec": {
      "name": "python3",
      "display_name": "Python 3"
    },
    "language_info": {
      "name": "python"
    }
  },
  "cells": [
    {
      "cell_type": "code",
      "metadata": {
        "colab": {
          "base_uri": "https://localhost:8080/"
        },
        "id": "DmyTLwZIn2kM",
        "outputId": "55587102-2196-482a-e6b7-35b6a186d1d4"
      },
      "source": [
        "# Mounting Google Drive locally\n",
        "# Mount MyDrive on runtime using authoriazation code.\n",
        "from google.colab import drive\n",
        "drive.mount('/content/drive')\n"
      ],
      "execution_count": 1,
      "outputs": [
        {
          "output_type": "stream",
          "name": "stdout",
          "text": [
            "Mounted at /content/drive\n"
          ]
        }
      ]
    },
    {
      "cell_type": "code",
      "metadata": {
        "colab": {
          "base_uri": "https://localhost:8080/"
        },
        "id": "K7kTJceTn6BY",
        "outputId": "e967af51-1193-457c-9ace-3e55d6263315"
      },
      "source": [
        "# Location of the files\n",
        "!ls \"/content/drive/My Drive/Python Project\"\n"
      ],
      "execution_count": null,
      "outputs": [
        {
          "output_type": "stream",
          "name": "stdout",
          "text": [
            "'map ukraine.gif'  'Population Ukraine.xlsx'\n"
          ]
        }
      ]
    },
    {
      "cell_type": "code",
      "metadata": {
        "colab": {
          "base_uri": "https://localhost:8080/"
        },
        "id": "xCJZDPy0oGyC",
        "outputId": "564bd709-6392-4b80-bb35-125999d35e67"
      },
      "source": [
        "#api.openweathermap.org/data/2.5/weather?q={city name}&appid={API key}\n",
        "\n",
        "#apiKey = \"accf52e661c71d7c2953f13a894f2fc1\"\n",
        "\n",
        "\n",
        "# Python for Weather\n",
        "\n",
        "import requests, json\n",
        "\n",
        "# Enter your API key here\n",
        "api_key = \"accf52e661c71d7c2953f13a894f2fc1\"\n",
        "\n",
        "\n",
        "base_url = \"http://api.openweathermap.org/data/2.5/weather?\"\n",
        "\n",
        "\n",
        "city_name = input(\"Enter city name : \")\n",
        "complete_url = base_url + \"appid=\" + api_key + \"&q=\" + city_name\n",
        "response = requests.get(complete_url)\n",
        "x = response.json()\n",
        "\n",
        "if x[\"cod\"] != \"404\":\n",
        "\n",
        "\n",
        "\ty = x[\"main\"]\n",
        "\tcurrent_temperature = y[\"temp\"]\n",
        "\tcurrent_pressure = y[\"pressure\"]\n",
        "\tcurrent_humidity = y[\"humidity\"]\n",
        "\n",
        "\tz = x[\"weather\"]\n",
        "\tweather_description = z[0][\"description\"]\n",
        "\n",
        "\tprint(\" Temperature (in kelvin unit) = \" +\n",
        "\t\t\t\t\tstr(current_temperature) +\n",
        "\t\t\"\\n atmospheric pressure (in hPa unit) = \" +\n",
        "\t\t\t\t\tstr(current_pressure) +\n",
        "\t\t\"\\n humidity (in percentage) = \" +\n",
        "\t\t\t\t\tstr(current_humidity) +\n",
        "\t\t\"\\n description = \" +\n",
        "\t\t\t\t\tstr(weather_description))\n",
        "\n",
        "else:\n",
        "\tprint(\" City Not Found \")"
      ],
      "execution_count": 2,
      "outputs": [
        {
          "output_type": "stream",
          "name": "stdout",
          "text": [
            "Enter city name : lviv\n",
            " Temperature (in kelvin unit) = 272.36\n",
            " atmospheric pressure (in hPa unit) = 1022\n",
            " humidity (in percentage) = 100\n",
            " description = fog\n"
          ]
        }
      ]
    },
    {
      "cell_type": "code",
      "metadata": {
        "colab": {
          "base_uri": "https://localhost:8080/"
        },
        "id": "BGgdWpW0oc8v",
        "outputId": "cdba6611-fed6-4c94-fc41-6fc3080ba1a0"
      },
      "source": [
        "from datetime import date\n",
        "current_date = date(2021, 8, 2)\n",
        "end_date = date(2022, 7, 11)\n",
        "delta = end_date - current_date\n",
        "print(delta.days)"
      ],
      "execution_count": 4,
      "outputs": [
        {
          "output_type": "stream",
          "name": "stdout",
          "text": [
            "343\n"
          ]
        }
      ]
    },
    {
      "cell_type": "code",
      "metadata": {
        "colab": {
          "base_uri": "https://localhost:8080/",
          "height": 206
        },
        "id": "9-Fkk1IJokg5",
        "outputId": "cc869989-f0c8-4792-ad47-41de0eafa4f3"
      },
      "source": [
        "import pandas as pd\n",
        "\n",
        "\n",
        "# Import Ukraine Population file\n",
        "df = pd.read_excel('/content/drive/MyDrive/Python Project/Population Ukraine.xlsx')\n",
        "df.head()"
      ],
      "execution_count": 3,
      "outputs": [
        {
          "output_type": "execute_result",
          "data": {
            "text/html": [
              "<div>\n",
              "<style scoped>\n",
              "    .dataframe tbody tr th:only-of-type {\n",
              "        vertical-align: middle;\n",
              "    }\n",
              "\n",
              "    .dataframe tbody tr th {\n",
              "        vertical-align: top;\n",
              "    }\n",
              "\n",
              "    .dataframe thead th {\n",
              "        text-align: right;\n",
              "    }\n",
              "</style>\n",
              "<table border=\"1\" class=\"dataframe\">\n",
              "  <thead>\n",
              "    <tr style=\"text-align: right;\">\n",
              "      <th></th>\n",
              "      <th>City</th>\n",
              "      <th>Population</th>\n",
              "    </tr>\n",
              "  </thead>\n",
              "  <tbody>\n",
              "    <tr>\n",
              "      <th>0</th>\n",
              "      <td>Kyiv (city)</td>\n",
              "      <td>2962180</td>\n",
              "    </tr>\n",
              "    <tr>\n",
              "      <th>1</th>\n",
              "      <td>Kharkiv</td>\n",
              "      <td>1433886</td>\n",
              "    </tr>\n",
              "    <tr>\n",
              "      <th>2</th>\n",
              "      <td>Odessa</td>\n",
              "      <td>1015826</td>\n",
              "    </tr>\n",
              "    <tr>\n",
              "      <th>3</th>\n",
              "      <td>Dnipropetrovsk</td>\n",
              "      <td>980948</td>\n",
              "    </tr>\n",
              "    <tr>\n",
              "      <th>4</th>\n",
              "      <td>Donetsk</td>\n",
              "      <td>905364</td>\n",
              "    </tr>\n",
              "  </tbody>\n",
              "</table>\n",
              "</div>"
            ],
            "text/plain": [
              "             City  Population\n",
              "0     Kyiv (city)     2962180\n",
              "1         Kharkiv     1433886\n",
              "2          Odessa     1015826\n",
              "3  Dnipropetrovsk      980948\n",
              "4         Donetsk      905364"
            ]
          },
          "metadata": {},
          "execution_count": 3
        }
      ]
    },
    {
      "cell_type": "code",
      "metadata": {
        "colab": {
          "base_uri": "https://localhost:8080/",
          "height": 374
        },
        "id": "6KrS9SiBtUvY",
        "outputId": "9c1b6091-e165-4233-d416-455b2d05be76"
      },
      "source": [
        "import matplotlib.pyplot as plt\n",
        "#import pandas as pd\n",
        "   \n",
        "\n",
        "       \n",
        "\n",
        "\n",
        "New_Colors = ['green','blue','purple','brown','teal']\n",
        "plt.bar(df['City'], df['Population'], color=New_Colors)\n",
        "plt.title('City Population', fontsize=14)\n",
        "plt.xlabel('City', fontsize=14)\n",
        "plt.xticks(rotation='vertical')\n",
        "plt.ylabel('Population', fontsize=14)\n",
        "plt.grid(True)\n",
        "plt.show()"
      ],
      "execution_count": 5,
      "outputs": [
        {
          "output_type": "display_data",
          "data": {
            "image/png": "[encoded data removed]",
            "text/plain": [
              "<Figure size 432x288 with 1 Axes>"
            ]
          },
          "metadata": {
            "needs_background": "light"
          }
        }
      ]
    },
    {
      "cell_type": "markdown",
      "metadata": {
        "id": "2qtLtahgq-Gj"
      },
      "source": [
        "# New Section"
      ]
    }
  ]
}