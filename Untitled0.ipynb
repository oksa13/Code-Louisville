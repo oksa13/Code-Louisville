{
  "nbformat": 4,
  "nbformat_minor": 0,
  "metadata": {
    "colab": {
      "name": "Untitled0.ipynb",
      "provenance": [],
      "collapsed_sections": [],
      "authorship_tag": "ABX9TyNVC0oUCerwpO7FfCf+5Xrr"
    },
    "kernelspec": {
      "name": "python3",
      "display_name": "Python 3"
    },
    "language_info": {
      "name": "python"
    }
  },
  "cells": [
    {
      "cell_type": "code",
      "metadata": {
        "colab": {
          "base_uri": "https://localhost:8080/"
        },
        "id": "DmyTLwZIn2kM",
        "outputId": "9e1aad97-9aee-48e0-8865-8542bd7ec0e6"
      },
      "source": [
        "# Mounting Google Drive locally\n",
        "# Mount MyDrive on runtime using authoriazation code.\n",
        "from google.colab import drive\n",
        "drive.mount('/content/drive')\n"
      ],
      "execution_count": null,
      "outputs": [
        {
          "output_type": "stream",
          "name": "stdout",
          "text": [
            "Mounted at /content/drive\n"
          ]
        }
      ]
    },
    {
      "cell_type": "code",
      "metadata": {
        "colab": {
          "base_uri": "https://localhost:8080/"
        },
        "id": "K7kTJceTn6BY",
        "outputId": "e967af51-1193-457c-9ace-3e55d6263315"
      },
      "source": [
        "# After executing the cell above, Drive\n",
        "# files will be present in \"/content/drive/My Drive\".\n",
        "!ls \"/content/drive/My Drive/Python Project\"\n"
      ],
      "execution_count": null,
      "outputs": [
        {
          "output_type": "stream",
          "name": "stdout",
          "text": [
            "'map ukraine.gif'  'Population Ukraine.xlsx'\n"
          ]
        }
      ]
    },
    {
      "cell_type": "code",
      "metadata": {
        "colab": {
          "base_uri": "https://localhost:8080/"
        },
        "id": "xCJZDPy0oGyC",
        "outputId": "859963eb-7b25-42dc-ff29-263554edd1b7"
      },
      "source": [
        "#api.openweathermap.org/data/2.5/weather?q={city name}&appid={API key}\n",
        "\n",
        "#apiKey = \"accf52e661c71d7c2953f13a894f2fc1\"\n",
        "\n",
        "\n",
        "# Python program to find current\n",
        "# weather details of any city\n",
        "# using openweathermap api\n",
        "\n",
        "# import required modules\n",
        "import requests, json\n",
        "\n",
        "# Enter your API key here\n",
        "api_key = \"accf52e661c71d7c2953f13a894f2fc1\"\n",
        "\n",
        "# base_url variable to store url\n",
        "base_url = \"http://api.openweathermap.org/data/2.5/weather?\"\n",
        "\n",
        "# Give city name\n",
        "city_name = input(\"Enter city name : \")\n",
        "\n",
        "# complete_url variable to store\n",
        "# complete url address\n",
        "complete_url = base_url + \"appid=\" + api_key + \"&q=\" + city_name\n",
        "\n",
        "# get method of requests module\n",
        "# return response object\n",
        "response = requests.get(complete_url)\n",
        "\n",
        "# json method of response object\n",
        "# convert json format data into\n",
        "# python format data\n",
        "x = response.json()\n",
        "\n",
        "# Now x contains list of nested dictionaries\n",
        "# Check the value of \"cod\" key is equal to\n",
        "# \"404\", means city is found otherwise,\n",
        "# city is not found\n",
        "if x[\"cod\"] != \"404\":\n",
        "\n",
        "\t# store the value of \"main\"\n",
        "\t# key in variable y\n",
        "\ty = x[\"main\"]\n",
        "\n",
        "\t# store the value corresponding\n",
        "\t# to the \"temp\" key of y\n",
        "\tcurrent_temperature = y[\"temp\"]\n",
        "\n",
        "\t# store the value corresponding\n",
        "\t# to the \"pressure\" key of y\n",
        "\tcurrent_pressure = y[\"pressure\"]\n",
        "\n",
        "\t# store the value corresponding\n",
        "\t# to the \"humidity\" key of y\n",
        "\tcurrent_humidity = y[\"humidity\"]\n",
        "\n",
        "\t# store the value of \"weather\"\n",
        "\t# key in variable z\n",
        "\tz = x[\"weather\"]\n",
        "\n",
        "\t# store the value corresponding\n",
        "\t# to the \"description\" key at\n",
        "\t# the 0th index of z\n",
        "\tweather_description = z[0][\"description\"]\n",
        "\n",
        "\t# print following values\n",
        "\tprint(\" Temperature (in kelvin unit) = \" +\n",
        "\t\t\t\t\tstr(current_temperature) +\n",
        "\t\t\"\\n atmospheric pressure (in hPa unit) = \" +\n",
        "\t\t\t\t\tstr(current_pressure) +\n",
        "\t\t\"\\n humidity (in percentage) = \" +\n",
        "\t\t\t\t\tstr(current_humidity) +\n",
        "\t\t\"\\n description = \" +\n",
        "\t\t\t\t\tstr(weather_description))\n",
        "\n",
        "else:\n",
        "\tprint(\" City Not Found \")"
      ],
      "execution_count": null,
      "outputs": [
        {
          "output_type": "stream",
          "name": "stdout",
          "text": [
            "Enter city name : lviv\n",
            " Temperature (in kelvin unit) = 278.36\n",
            " atmospheric pressure (in hPa unit) = 1022\n",
            " humidity (in percentage) = 87\n",
            " description = clear sky\n"
          ]
        }
      ]
    },
    {
      "cell_type": "code",
      "metadata": {
        "colab": {
          "base_uri": "https://localhost:8080/"
        },
        "id": "BGgdWpW0oc8v",
        "outputId": "ac7373c7-9bf3-415e-da28-73b3042ffec4"
      },
      "source": [
        "from datetime import date\n",
        "current_date = date(2021, 8, 2)\n",
        "end_date = date(2022, 7, 11)\n",
        "delta = end_date - current_date\n",
        "print(delta.days)"
      ],
      "execution_count": null,
      "outputs": [
        {
          "output_type": "stream",
          "name": "stdout",
          "text": [
            "343\n"
          ]
        }
      ]
    },
    {
      "cell_type": "code",
      "metadata": {
        "colab": {
          "base_uri": "https://localhost:8080/",
          "height": 206
        },
        "id": "9-Fkk1IJokg5",
        "outputId": "5df6b68e-1c0d-45f4-ed3e-9821154e6d28"
      },
      "source": [
        "import pandas as pd\n",
        "\n",
        "\n",
        "# Import Ukraine Population file\n",
        "df = pd.read_excel('/content/drive/MyDrive/Python Project/Population Ukraine.xlsx')\n",
        "df.head()"
      ],
      "execution_count": 13,
      "outputs": [
        {
          "output_type": "execute_result",
          "data": {
            "text/html": [
              "<div>\n",
              "<style scoped>\n",
              "    .dataframe tbody tr th:only-of-type {\n",
              "        vertical-align: middle;\n",
              "    }\n",
              "\n",
              "    .dataframe tbody tr th {\n",
              "        vertical-align: top;\n",
              "    }\n",
              "\n",
              "    .dataframe thead th {\n",
              "        text-align: right;\n",
              "    }\n",
              "</style>\n",
              "<table border=\"1\" class=\"dataframe\">\n",
              "  <thead>\n",
              "    <tr style=\"text-align: right;\">\n",
              "      <th></th>\n",
              "      <th>City</th>\n",
              "      <th>Population</th>\n",
              "    </tr>\n",
              "  </thead>\n",
              "  <tbody>\n",
              "    <tr>\n",
              "      <th>0</th>\n",
              "      <td>Kyiv (city)</td>\n",
              "      <td>2962180</td>\n",
              "    </tr>\n",
              "    <tr>\n",
              "      <th>1</th>\n",
              "      <td>Kharkiv</td>\n",
              "      <td>1433886</td>\n",
              "    </tr>\n",
              "    <tr>\n",
              "      <th>2</th>\n",
              "      <td>Odessa</td>\n",
              "      <td>1015826</td>\n",
              "    </tr>\n",
              "    <tr>\n",
              "      <th>3</th>\n",
              "      <td>Dnipropetrovsk</td>\n",
              "      <td>980948</td>\n",
              "    </tr>\n",
              "    <tr>\n",
              "      <th>4</th>\n",
              "      <td>Donetsk</td>\n",
              "      <td>905364</td>\n",
              "    </tr>\n",
              "  </tbody>\n",
              "</table>\n",
              "</div>"
            ],
            "text/plain": [
              "             City  Population\n",
              "0     Kyiv (city)     2962180\n",
              "1         Kharkiv     1433886\n",
              "2          Odessa     1015826\n",
              "3  Dnipropetrovsk      980948\n",
              "4         Donetsk      905364"
            ]
          },
          "metadata": {},
          "execution_count": 13
        }
      ]
    },
    {
      "cell_type": "code",
      "metadata": {
        "colab": {
          "base_uri": "https://localhost:8080/",
          "height": 291
        },
        "id": "6KrS9SiBtUvY",
        "outputId": "0fd472b5-4b6b-4f82-ec7d-8665478ac0a5"
      },
      "source": [
        "import matplotlib.pyplot as plt\n",
        "#import pandas as pd\n",
        "   \n",
        "\n",
        "       \n",
        "\n",
        "\n",
        "New_Colors = ['green','blue','purple','brown','teal']\n",
        "plt.bar(df['City'], df['Population'], color=New_Colors)\n",
        "plt.title('City Population', fontsize=14)\n",
        "plt.xlabel('City', fontsize=5)\n",
        "plt.ylabel('Population', fontsize=14)\n",
        "plt.grid(True)\n",
        "plt.show()"
      ],
      "execution_count": 19,
      "outputs": [
        {
          "output_type": "display_data",
          "data": {
            "image/png": "[encoded data removed]",
            "text/plain": [
              "<Figure size 432x288 with 1 Axes>"
            ]
          },
          "metadata": {
            "needs_background": "light"
          }
        }
      ]
    },
    {
      "cell_type": "markdown",
      "metadata": {
        "id": "2qtLtahgq-Gj"
      },
      "source": [
        "# New Section"
      ]
    }
  ]
}